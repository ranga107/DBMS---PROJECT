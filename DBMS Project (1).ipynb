{
 "cells": [
  {
   "cell_type": "code",
   "execution_count": 103,
   "id": "17274d45",
   "metadata": {},
   "outputs": [],
   "source": [
    "import psycopg2\n",
    "from tabulate import tabulate"
   ]
  },
  {
   "cell_type": "code",
   "execution_count": 104,
   "id": "bd3310cb",
   "metadata": {},
   "outputs": [],
   "source": [
    "con = psycopg2.connect(host=\"localhost\",database=\"postgres\",user=\"postgres\",password=\"Postgres\",port=5432)"
   ]
  },
  {
   "cell_type": "code",
   "execution_count": 40,
   "id": "26d88929",
   "metadata": {},
   "outputs": [],
   "source": [
    "# For isolation: SERIALIZABLE\n",
    "con.set_isolation_level(3)\n",
    "# For atomicity\n",
    "con.autocommit = False"
   ]
  },
  {
   "cell_type": "code",
   "execution_count": 41,
   "id": "a7b57c15",
   "metadata": {},
   "outputs": [],
   "source": [
    "def xecuteproject(query, tablename):\n",
    "    cur.execute(query)\n",
    "    res = cur.fetchall()\n",
    "    if tablename == 'Product':\n",
    "        print('--------------PRODUCT TABLE-------------------')\n",
    "        print(tabulate(res, headers=['prodid', 'deptid', 'quantity'], tablefmt='psql'))\n",
    "\n",
    "    if tablename == 'Depot':\n",
    "        print('--------------DEPOT TABLE-------------------')\n",
    "        print(tabulate(res, headers=['deptid', 'addr','volume'], tablefmt='psql'))\n",
    "\n",
    "    if tablename == 'Stock':\n",
    "        print('--------------STOCK TABLE-------------------')\n",
    "        print(tabulate(res, headers=['prodid', 'deptid', 'quantity'], tablefmt='psql'))"
   ]
  },
  {
   "cell_type": "code",
   "execution_count": 108,
   "id": "8670a06d",
   "metadata": {},
   "outputs": [
    {
     "name": "stdout",
     "output_type": "stream",
     "text": [
      "--------------STOCK TABLE-------------------\n",
      "+---------+--------+----------+\n",
      "| depid   | addr   |   volume |\n",
      "|---------+--------+----------|\n",
      "| p2      | tv     |    250   |\n",
      "| p3      | vcr    |     80   |\n",
      "| p1      | tape   |      2.5 |\n",
      "+---------+--------+----------+\n",
      "--------------PRODUCT TABLE-------------------\n",
      "+-------------+----------+------------+\n",
      "| productid   | deptid   |   quantity |\n",
      "|-------------+----------+------------|\n",
      "| d2          | Syracuse |       6000 |\n",
      "| d4          | New York |       2000 |\n",
      "| d1          | New York |       9000 |\n",
      "+-------------+----------+------------+\n",
      "--------------DEPOT TABLE-------------------\n",
      "+-------------+----------+------------+\n",
      "| productid   | deptid   |   quantity |\n",
      "|-------------+----------+------------|\n",
      "| p3          | d1       |       2000 |\n",
      "| p2          | d1       |       -400 |\n",
      "| p1          | d1       |       1000 |\n",
      "| p3          | d4       |       2000 |\n",
      "| p2          | d4       |       1500 |\n",
      "| p2          | d2       |       2000 |\n",
      "| p1          | d2       |       -100 |\n",
      "| p1          | d4       |       1200 |\n",
      "+-------------+----------+------------+\n"
     ]
    }
   ],
   "source": [
    "cur = con.cursor()\n",
    "query1 = 'Select * from productassign5'\n",
    "query2 = 'Select * from depot_assign5'\n",
    "query3 = 'Select * from stock_assign5'\n",
    "\n",
    "xecuteproject(query1, 'Stock')\n",
    "xecuteproject(query2, 'Product')\n",
    "xecuteproject(query3, 'Depot')    "
   ]
  },
  {
   "cell_type": "code",
   "execution_count": 109,
   "id": "c46df315",
   "metadata": {},
   "outputs": [
    {
     "name": "stdout",
     "output_type": "stream",
     "text": [
      "---Delete from productassign5 where productid------\n",
      "--------------PRODUCT TABLE-------------------\n",
      "+-------------+----------+------------+\n",
      "| productid   | deptid   |   quantity |\n",
      "|-------------+----------+------------|\n",
      "| p2          | tv       |        250 |\n",
      "| p3          | vcr      |         80 |\n",
      "+-------------+----------+------------+\n"
     ]
    }
   ],
   "source": [
    "# The product p1 is deleted from Product and Stock.\n",
    "try:\n",
    "    query4 = \"Delete from productassign5 where productid='p1'\"\n",
    "    print('---Delete from productassign5 where productid------')\n",
    "    cur.execute(query4)\n",
    "    cur.execute(query1)\n",
    "    res = cur.fetchall()\n",
    "    print('--------------PRODUCT TABLE-------------------')\n",
    "    print(tabulate(res, headers=['productid', 'deptid', 'quantity'], tablefmt='psql'))\n",
    "    \n",
    "except(Exception, psycopg2.DatabaseError) as err:\n",
    "    print(err)\n",
    "    print(\"Transactions could not be completed so database will be rolled back before start of transactions\")\n",
    "    print(\"Either it is Primary key violation or Please check if there is no row with name p1\")\n",
    "    con.rollback()\n",
    "\n",
    "finally:\n",
    "    if con:\n",
    "        con.commit()"
   ]
  },
  {
   "cell_type": "code",
   "execution_count": 110,
   "id": "4054eecb",
   "metadata": {},
   "outputs": [
    {
     "name": "stdout",
     "output_type": "stream",
     "text": [
      "Delete the data from the STOCK TABLE--\n",
      "+-------------+----------+------------+\n",
      "| productid   | deptid   |   quantity |\n",
      "|-------------+----------+------------|\n",
      "| p3          | d1       |       2000 |\n",
      "| p2          | d1       |       -400 |\n",
      "| p3          | d4       |       2000 |\n",
      "| p2          | d4       |       1500 |\n",
      "| p2          | d2       |       2000 |\n",
      "+-------------+----------+------------+\n"
     ]
    }
   ],
   "source": [
    "# Product deleted from Stock\n",
    "try:\n",
    "    query5 = \"Delete from stock_assign5 where prodid='p1'\"\n",
    "    print('Delete the product p1 from the STOCK TABLE--')\n",
    "    cur.execute(query5)\n",
    "    cur.execute(query3)\n",
    "    res = cur.fetchall()\n",
    "    print(tabulate(res, headers=['productid', 'deptid', 'quantity'], tablefmt='psql'))\n",
    "except(Exception, psycopg2.DatabaseError) as err:\n",
    "    print(err)\n",
    "    print(\"Transactions could not be completed so database will be rolled back before start of transactions\")\n",
    "    print(\"Either it is Primary key violation or Please check if there is no row with name p1\")\n",
    "    con.rollback()\n",
    "\n",
    "finally:\n",
    "    if con:\n",
    "        con.commit()"
   ]
  },
  {
   "cell_type": "code",
   "execution_count": 111,
   "id": "89cb0f3c",
   "metadata": {},
   "outputs": [
    {
     "name": "stdout",
     "output_type": "stream",
     "text": [
      "-------Depot TABLE---------------------------\n",
      "+---------+----------+----------+\n",
      "| depid   | addr     |   volume |\n",
      "|---------+----------+----------|\n",
      "| d2      | Syracuse |     6000 |\n",
      "| d4      | New York |     2000 |\n",
      "+---------+----------+----------+\n",
      "Deleting data from the Stock d1 and delete from Depot and Stock. \n"
     ]
    }
   ],
   "source": [
    "# Query2 - Depot d1 is deleted from Depot.\n",
    "try:\n",
    "    query6 = \"Delete from depot_assign5 where depid='d1'\"\n",
    "    cur.execute(query6)\n",
    "    print('-------Depot TABLE---------------------------')\n",
    "    cur.execute(query2)\n",
    "    res = cur.fetchall()\n",
    "    print(tabulate(res, headers=['depid', 'addr', 'volume'], tablefmt='psql'))\n",
    "# Query7 - Depot d1 is deleted  Stock table\n",
    "    print(\"Deleting data from the Stock d1 and delete from Depot and Stock. \")\n",
    "    query7 = \"Delete from stock_assign5 where deptid = 'd1'\"\n",
    "    cur.execute(query7)\n",
    "except(Exception, psycopg2.DatabaseError) as err:\n",
    "    print(err)\n",
    "    print(\"Transactions could not be completed so database will be rolled back before start of transactions\")\n",
    "    print(\"Either it is Primary key violation or Please check if there is no row with name p1\")\n",
    "    con.rollback()\n",
    "\n",
    "finally:\n",
    "    if con:\n",
    "        con.commit()\n"
   ]
  },
  {
   "cell_type": "code",
   "execution_count": 112,
   "id": "3788b20f",
   "metadata": {},
   "outputs": [
    {
     "name": "stdout",
     "output_type": "stream",
     "text": [
      "----DELETED D1 from---Stock TABLE---------------------------\n",
      "+----------+--------+----------+\n",
      "| deptid   | addr   |   volume |\n",
      "|----------+--------+----------|\n",
      "| p3       | d4     |     2000 |\n",
      "| p2       | d4     |     1500 |\n",
      "| p2       | d2     |     2000 |\n",
      "+----------+--------+----------+\n",
      "Select * from productassign5\n",
      "--------------PRODUCT TABLE-------------------\n",
      "+-------------+---------+---------+\n",
      "| productid   | pname   |   price |\n",
      "|-------------+---------+---------|\n",
      "| p2          | tv      |     250 |\n",
      "| p3          | vcr     |      80 |\n",
      "+-------------+---------+---------+\n"
     ]
    }
   ],
   "source": [
    "# Inserting rows with p1\n",
    "try:\n",
    "    cur.execute(query3)\n",
    "    res = cur.fetchall()\n",
    "    print('----DELETED D1 from---Stock TABLE---------------------------')\n",
    "    print(tabulate(res, headers=['deptid', 'addr', 'volume'], tablefmt='psql'))\n",
    "    # Check for product p1 exists and if not insert rows\n",
    "    print(query1)\n",
    "    cur.execute(query1)\n",
    "    res = cur.fetchall()\n",
    "    print('--------------PRODUCT TABLE-------------------')\n",
    "    print(tabulate(res, headers=['productid', 'pname', 'price'], tablefmt='psql'))\n",
    "except(Exception, psycopg2.DatabaseError) as err:\n",
    "    print(err)\n",
    "    print(\"Transactions could not be completed so database will be rolled back before start of transactions\")\n",
    "    print(\"Either it is Primary key violation or Please check if there is no row with name p1\")\n",
    "    con.rollback()\n",
    "\n",
    "finally:\n",
    "    if con:\n",
    "        con.commit()\n"
   ]
  },
  {
   "cell_type": "markdown",
   "id": "a12bffcd",
   "metadata": {},
   "source": [
    "#We add a product (p100, cd, 5) in Product and (p100, d2, 50) in Stock"
   ]
  },
  {
   "cell_type": "code",
   "execution_count": 113,
   "id": "c4c2d558",
   "metadata": {},
   "outputs": [
    {
     "name": "stdout",
     "output_type": "stream",
     "text": [
      "--------------After inserting product p1 into PRODUCT TABLE-------------------\n",
      "+-------------+---------+---------+\n",
      "| productid   | pname   |   price |\n",
      "|-------------+---------+---------|\n",
      "| p2          | tv      |   250   |\n",
      "| p3          | vcr     |    80   |\n",
      "| p1          | tape    |     2.5 |\n",
      "+-------------+---------+---------+\n",
      "The product p1 changes its name to pp1 in Product and Stock.\n"
     ]
    }
   ],
   "source": [
    "try:\n",
    "    insertquery = \"insert into productassign5(productid,pname,price) values('p1','tape',2.5)\"\n",
    "    cur.execute(insertquery)\n",
    "    cur.execute(query1)\n",
    "    res = cur.fetchall()\n",
    "    print('--------------After inserting product p1 into PRODUCT TABLE-------------------')\n",
    "    print(tabulate(res, headers=['productid', 'pname', 'price'], tablefmt='psql'))\n",
    "    query8 = \"Update productassign5 SET productid = 'pp1' where productid='p1'\"\n",
    "    cur.execute(query8)\n",
    "    cur.execute(query1)\n",
    "    #print('The product p1 changes its name to pp1 in Product and Stock.')\n",
    "    res = cur.fetchall()\n",
    "    \n",
    "except(Exception, psycopg2.DatabaseError):\n",
    "    print(err)\n",
    "    print(\"Transactions could not be completed so database will be rolled back before start of transactions\")\n",
    "    print(\"Either it is Primary key violation or Please check if there is no row with name p1\")\n",
    "    con.rollback()\n",
    "\n",
    "finally:\n",
    "    if con:\n",
    "        con.commit()\n",
    "      "
   ]
  },
  {
   "cell_type": "code",
   "execution_count": 114,
   "id": "a9a24204",
   "metadata": {},
   "outputs": [
    {
     "name": "stdout",
     "output_type": "stream",
     "text": [
      "--------------PRODUCT TABLE-------------------\n",
      "+-------------+---------+---------+\n",
      "| productid   | pname   |   price |\n",
      "|-------------+---------+---------|\n",
      "| p2          | tv      |   250   |\n",
      "| p3          | vcr     |    80   |\n",
      "| pp1         | tape    |     2.5 |\n",
      "+-------------+---------+---------+\n",
      "product p1 changed to pp1 in Product table\n"
     ]
    }
   ],
   "source": [
    "print('--------------PRODUCT TABLE-------------------')\n",
    "print(tabulate(res, headers=['productid', 'pname', 'price'], tablefmt='psql'))\n",
    "print('product p1 changed to pp1 in Product table')"
   ]
  },
  {
   "cell_type": "code",
   "execution_count": 116,
   "id": "e5b870e4",
   "metadata": {},
   "outputs": [
    {
     "name": "stdout",
     "output_type": "stream",
     "text": [
      "------------STOCK ASSIGN5-------------------------\n",
      "+-------------+----------+------------+\n",
      "| productid   | deptid   |   quantity |\n",
      "|-------------+----------+------------|\n",
      "| pp1         | tape     |        2.5 |\n",
      "| p3          | d4       |     2000   |\n",
      "| p2          | d4       |     1500   |\n",
      "| p2          | d2       |     2000   |\n",
      "+-------------+----------+------------+\n"
     ]
    }
   ],
   "source": [
    "# Query9--The product p1 changes its name to pp1 in Stock.\n",
    "try:\n",
    "    print('------------STOCK ASSIGN5-------------------------')\n",
    "    insertquery = \"insert into stock_assign5(prodid,deptid,quantity)values('p1','tape',2.5)\"\n",
    "    query9 = \"Update stock_assign5 SET prodid='pp1' where prodid='p1'\"\n",
    "    cur.execute(insertquery)\n",
    "    cur.execute(query9)\n",
    "    cur.execute(query3)\n",
    "    res = cur.fetchall()\n",
    "    print(tabulate(res, headers=['productid', 'deptid', 'quantity'], tablefmt='psql'))\n",
    "    \n",
    "except(Exception, psycopg2.DatabaseError) as err:\n",
    "    print(err)\n",
    "    print(\"Transactions could not be completed so database will be rolled back before start of transactions\")\n",
    "    print(\"Either it is Primary key violation or Please check if there is no row with name p1\")\n",
    "    con.rollback()\n",
    "\n",
    "finally:\n",
    "    if con:\n",
    "        con.commit()"
   ]
  },
  {
   "cell_type": "code",
   "execution_count": 78,
   "id": "2ec6a23a",
   "metadata": {},
   "outputs": [
    {
     "name": "stdout",
     "output_type": "stream",
     "text": [
      "--------------Verify if d1 is in Stock Table-------------\n",
      "+----------+----------+------------+\n",
      "| prodid   | deptid   |   quantity |\n",
      "|----------+----------+------------|\n",
      "| p3       | d4       |       2000 |\n",
      "| p2       | d4       |       1500 |\n",
      "| p2       | d2       |       2000 |\n",
      "| p3       | d1       |       2000 |\n",
      "| p2       | d1       |       -400 |\n",
      "| pp1      | d1       |       1000 |\n",
      "| pp1      | d2       |       -100 |\n",
      "| pp1      | d4       |       1200 |\n",
      "+----------+----------+------------+\n"
     ]
    }
   ],
   "source": [
    "# Query10 -- Depot d1 changes its name to dd1 in Stock 00 THis gave Serizalization ERROR\n"
   ]
  },
  {
   "cell_type": "code",
   "execution_count": 126,
   "id": "22c1b9c6",
   "metadata": {},
   "outputs": [
    {
     "name": "stdout",
     "output_type": "stream",
     "text": [
      "--------------Verify if d1 is in Depot Table-------------\n",
      "---Current Depot table\n",
      "+---------+----------+----------+\n",
      "| depid   | addr     |   volume |\n",
      "|---------+----------+----------|\n",
      "| d2      | Syracuse |     6000 |\n",
      "| d4      | New York |     2000 |\n",
      "| d1      | New York |     9000 |\n",
      "+---------+----------+----------+\n",
      "Insert d1 row into the table\n",
      "duplicate key value violates unique constraint \"depot_assign5_pkey\"\n",
      "DETAIL:  Key (depid)=(d1) already exists.\n",
      "\n",
      "Either it is Primary key violation or Please check if there is no row with name p1\n"
     ]
    }
   ],
   "source": [
    "try:\n",
    "    print('--------------Verify if d1 is in Depot Table-------------')\n",
    "    query = \"Select * from depot_assign5\"\n",
    "    #delquery = \"Delete from stock_assign5 where deptid = 'tape'\"\n",
    "    # Testing Serialization and Handling it\n",
    "    cur.execute(delquery)\n",
    "    cur.execute(query)\n",
    "    res2 = cur.fetchall()\n",
    "    print(\"---Current Depot table\")\n",
    "    print(tabulate(res2, headers=['depid', 'addr', 'volume'], tablefmt='psql'))\n",
    "    print(\"Insert d1 row into the table\")\n",
    "    insertquery = \"insert into depot_assign5(depid,addr,volume)values('d1','New York',9000)\"\n",
    "    cur.execute(insertquery)\n",
    "    res = cur.fetchall()\n",
    "    print(tabulate(res, headers=['depid', 'addr', 'volume'], tablefmt='psql'))\n",
    "except(Exception, psycopg2.DatabaseError) as err:\n",
    "    print(err)\n",
    "    print(\"Either it is Primary key violation or Please check if there is no row with name \")\n",
    "    con.rollback()\n",
    "\n",
    "finally:\n",
    "    if con:\n",
    "        con.commit()\n"
   ]
  },
  {
   "cell_type": "code",
   "execution_count": 130,
   "id": "1b8ad2e5",
   "metadata": {},
   "outputs": [
    {
     "name": "stdout",
     "output_type": "stream",
     "text": [
      "+---------+----------+----------+\n",
      "| depid   | addr     |   volume |\n",
      "|---------+----------+----------|\n",
      "| d2      | Syracuse |     6000 |\n",
      "| d4      | New York |     2000 |\n",
      "| dd1     | New York |     9000 |\n",
      "+---------+----------+----------+\n",
      "---Depot d1 changes its name to dd1 in Depot------\n"
     ]
    }
   ],
   "source": [
    "# Issue of Concurrent execution\n",
    "try:\n",
    "    print(tabulate(res, headers=['depid', 'addr', 'volume'], tablefmt='psql'))\n",
    "    query10_1 = \"Update depot_assign5 SET depid = 'dd1' where depid='d1'\"\n",
    "    print('---Depot d1 changes its name to dd1 in Depot------')\n",
    "    cur.execute(query10_1)\n",
    "    cur.execute(query2)\n",
    "    res = cur.fetchall()\n",
    "    #print(tabulate(res, headers=['depid', 'addr', 'volume'], tablefmt='psql'))\n",
    "except(Exception, psycopg2.DatabaseError) as err:\n",
    "    print(err)\n",
    "    print(\"Either it is Primary key violation or Please check if there is no row with name \")\n",
    "    con.rollback()\n",
    "\n",
    "finally:\n",
    "    if con:\n",
    "        con.commit()"
   ]
  },
  {
   "cell_type": "code",
   "execution_count": 136,
   "id": "702200de",
   "metadata": {},
   "outputs": [
    {
     "name": "stdout",
     "output_type": "stream",
     "text": [
      "+----------+----------+------------+\n",
      "| prodid   | deptid   |   quantity |\n",
      "|----------+----------+------------|\n",
      "| p3       | d4       |       2000 |\n",
      "| p2       | d4       |       1500 |\n",
      "| p3       | d1       |       3000 |\n",
      "| p2       | d2       |       2000 |\n",
      "| p2       | d1       |       -400 |\n",
      "| p1       | d1       |       1000 |\n",
      "+----------+----------+------------+\n"
     ]
    }
   ],
   "source": [
    "try:\n",
    "    cur.execute(query3)\n",
    "    res = cur.fetchall()\n",
    "    print(tabulate(res, headers=['prodid', 'deptid', 'quantity'], tablefmt='psql'))\n",
    "    #q1 = \"insert into stock_assign5(prodid,deptid,quantity)values('p3','d1',3000)\"\n",
    "    #q2 = \"insert into stock_assign5(prodid,deptid,quantity)values('p2','d1',-400)\"\n",
    "    #q3 = \"insert into stock_assign5(prodid,deptid,quantity)values('p1','d1',1000)\"\n",
    "    #cur.execute(q1)\n",
    "    #cur.execute(q2)\n",
    "    #cur.execute(q3)\n",
    "    res = cur.fetchall()\n",
    "    #print(tabulate(res, headers=['prodid', 'deptid', 'quantity'], tablefmt='psql'))\n",
    "except(Exception, psycopg2.DatabaseError) as err:\n",
    "    print(err)\n",
    "    print(\"Either it is Primary key violation or Please check if there is no row with name p1\")\n",
    "    con.rollback()\n",
    "finally:\n",
    "    if con:\n",
    "        con.commit()\n"
   ]
  },
  {
   "cell_type": "code",
   "execution_count": 137,
   "id": "9c5435bf",
   "metadata": {},
   "outputs": [
    {
     "name": "stdout",
     "output_type": "stream",
     "text": [
      "---Depot d1 changes its name to dd1 in Stock------\n",
      "+----------+----------+------------+\n",
      "| prodid   | deptid   |   quantity |\n",
      "|----------+----------+------------|\n",
      "| p3       | d4       |       2000 |\n",
      "| p2       | d4       |       1500 |\n",
      "| p2       | d2       |       2000 |\n",
      "| p3       | dd1      |       3000 |\n",
      "| p2       | dd1      |       -400 |\n",
      "| p1       | dd1      |       1000 |\n",
      "+----------+----------+------------+\n"
     ]
    }
   ],
   "source": [
    "#Update Depot d1 changes its name to dd1 in Stock\n",
    "try:\n",
    "    query10_1 = \"Update stock_assign5 SET deptid = 'dd1' where deptid='d1'\"\n",
    "    print('---Depot d1 changes its name to dd1 in Stock------')\n",
    "    cur.execute(query10_1)\n",
    "    cur.execute(query3)\n",
    "    res = cur.fetchall()\n",
    "    print(tabulate(res, headers=['prodid', 'deptid', 'quantity'], tablefmt='psql'))\n",
    "except(Exception, psycopg2.DatabaseError) as err:\n",
    "    print(err)\n",
    "    print(\"Either it is Primary key violation or Please check if there is no row with name p1\")\n",
    "    con.rollback()\n",
    "finally:\n",
    "    if con:\n",
    "        con.commit()\n"
   ]
  },
  {
   "cell_type": "code",
   "execution_count": 138,
   "id": "e5482f4c",
   "metadata": {},
   "outputs": [
    {
     "name": "stdout",
     "output_type": "stream",
     "text": [
      "-Add product (p100,cd,5) in Product\n",
      "+-------------+---------+---------+\n",
      "| productid   | pname   |   price |\n",
      "|-------------+---------+---------|\n",
      "| p2          | tv      |   250   |\n",
      "| p3          | vcr     |    80   |\n",
      "| pp1         | tape    |     2.5 |\n",
      "| p100        | cd      |     5   |\n",
      "+-------------+---------+---------+\n",
      "Running the Insertion query in Stock table\n",
      "+-------------+----------+------------+\n",
      "| productid   | deptid   |   quantity |\n",
      "|-------------+----------+------------|\n",
      "| p3          | d4       |       2000 |\n",
      "| p2          | d4       |       1500 |\n",
      "| p2          | d2       |       2000 |\n",
      "| p3          | dd1      |       3000 |\n",
      "| p2          | dd1      |       -400 |\n",
      "| p1          | dd1      |       1000 |\n",
      "| p100        | d2       |         50 |\n",
      "+-------------+----------+------------+\n"
     ]
    }
   ],
   "source": [
    "# Query11 -- Add product (p100,cd,5) in Product and (p100,d2,50) in Stock\n",
    "try:\n",
    "    print('-Add product (p100,cd,5) in Product')\n",
    "    query11 = \"insert into productassign5(productid,pname,price)values('p100','cd',5)\"\n",
    "    cur.execute(query11)\n",
    "    cur.execute(query1)\n",
    "    res1 = cur.fetchall()\n",
    "    print(tabulate(res1, headers=['productid', 'pname', 'price'], tablefmt='psql'))\n",
    "    # Add and (p100,d2,50) in Stock\n",
    "    query13 = \"insert into stock_assign5(prodid,deptid,quantity) values('p100','d2',50)\"\n",
    "    print(\"Running the Insertion query in Stock table\")\n",
    "    cur.execute(query13)\n",
    "    cur.execute(query3)\n",
    "    res = cur.fetchall()\n",
    "    print(tabulate(res, headers=['productid', 'deptid', 'quantity'], tablefmt='psql'))\n",
    "except(Exception, psycopg2.DatabaseError) as err:\n",
    "    print(err)\n",
    "    print(\"Either it is Primary key violation or Please check if there is no row with name \")\n",
    "    con.rollback()\n",
    "finally:\n",
    "    if con:\n",
    "        con.commit()"
   ]
  },
  {
   "cell_type": "code",
   "execution_count": 140,
   "id": "113c1872",
   "metadata": {},
   "outputs": [
    {
     "name": "stdout",
     "output_type": "stream",
     "text": [
      "+---------+----------+----------+\n",
      "| depid   | addr     |   volume |\n",
      "|---------+----------+----------|\n",
      "| d2      | Syracuse |     6000 |\n",
      "| d4      | New York |     2000 |\n",
      "| dd1     | New York |     9000 |\n",
      "| d100    | Chicago  |      100 |\n",
      "+---------+----------+----------+\n"
     ]
    }
   ],
   "source": [
    "# Query 14 - We add a depot (d100, Chicago, 100) in Depot and (p1, d100, 100) in Stock.\n",
    "try:\n",
    "    query14 = \"insert into depot_assign5(depid,addr,volume) values('d100','Chicago',100)\"    \n",
    "    cur.execute(query14)\n",
    "    cur.execute(query2)\n",
    "    res2 = cur.fetchall()\n",
    "    print(tabulate(res2, headers=['depid', 'addr', 'volume'], tablefmt='psql'))\n",
    "        \n",
    "except(Exception, psycopg2.DatabaseError) as err:\n",
    "    print(err)\n",
    "    print(\"Either it is Primary key violation or Please check if there is no row with name \")\n",
    "    delquery = \"\"\n",
    "    con.rollback()\n",
    "finally:\n",
    "    if con:\n",
    "        con.commit()\n"
   ]
  },
  {
   "cell_type": "code",
   "execution_count": 142,
   "id": "1d15bcae",
   "metadata": {},
   "outputs": [
    {
     "name": "stdout",
     "output_type": "stream",
     "text": [
      "Added all rows into Stock\n",
      "+----------+----------+------------+\n",
      "| prodid   | deptid   |   quantity |\n",
      "|----------+----------+------------|\n",
      "| p3       | d4       |       2000 |\n",
      "| p2       | d4       |       1500 |\n",
      "| p2       | d2       |       2000 |\n",
      "| p3       | dd1      |       3000 |\n",
      "| p2       | dd1      |       -400 |\n",
      "| p1       | dd1      |       1000 |\n",
      "| p100     | d2       |         50 |\n",
      "| p100     | d100     |        100 |\n",
      "+----------+----------+------------+\n"
     ]
    }
   ],
   "source": [
    "query15 = \"insert into stock_assign5(prodid,deptid,quantity) values('p100','d100',100)\"\n",
    "try:\n",
    "    cur.execute(query15)\n",
    "    cur.execute(query3)\n",
    "    res3 = cur.fetchall()\n",
    "  # Print rows in Stock\n",
    "    print('Added all rows into Stock')\n",
    "    print(tabulate(res3, headers=['prodid', 'deptid', 'quantity'], tablefmt='psql'))\n",
    "except(Exception, psycopg2.DatabaseError) as err:\n",
    "    print(err)\n",
    "    print(\"Either it is Primary key violation or Please check if there is no row with name \")\n",
    "    con.rollback()\n",
    "finally:\n",
    "    if con:\n",
    "        con.commit()"
   ]
  },
  {
   "cell_type": "code",
   "execution_count": 143,
   "id": "956e47a4",
   "metadata": {},
   "outputs": [
    {
     "name": "stdout",
     "output_type": "stream",
     "text": [
      "--------------STOCK TABLE-------------------\n",
      "+---------+--------+----------+\n",
      "| depid   | addr   |   volume |\n",
      "|---------+--------+----------|\n",
      "| p2      | tv     |    250   |\n",
      "| p3      | vcr    |     80   |\n",
      "| pp1     | tape   |      2.5 |\n",
      "| p100    | cd     |      5   |\n",
      "+---------+--------+----------+\n",
      "--------------PRODUCT TABLE-------------------\n",
      "+-------------+----------+------------+\n",
      "| productid   | deptid   |   quantity |\n",
      "|-------------+----------+------------|\n",
      "| d2          | Syracuse |       6000 |\n",
      "| d4          | New York |       2000 |\n",
      "| dd1         | New York |       9000 |\n",
      "| d100        | Chicago  |        100 |\n",
      "+-------------+----------+------------+\n",
      "--------------DEPOT TABLE-------------------\n",
      "+-------------+----------+------------+\n",
      "| productid   | deptid   |   quantity |\n",
      "|-------------+----------+------------|\n",
      "| p3          | d4       |       2000 |\n",
      "| p2          | d4       |       1500 |\n",
      "| p2          | d2       |       2000 |\n",
      "| p3          | dd1      |       3000 |\n",
      "| p2          | dd1      |       -400 |\n",
      "| p1          | dd1      |       1000 |\n",
      "| p100        | d2       |         50 |\n",
      "| p100        | d100     |        100 |\n",
      "+-------------+----------+------------+\n"
     ]
    }
   ],
   "source": [
    "cur = con.cursor()\n",
    "query1 = 'Select * from productassign5'\n",
    "query2 = 'Select * from depot_assign5'\n",
    "query3 = 'Select * from stock_assign5'\n",
    "\n",
    "xecuteproject(query1, 'Stock')\n",
    "xecuteproject(query2, 'Product')\n",
    "xecuteproject(query3, 'Depot') "
   ]
  },
  {
   "cell_type": "code",
   "execution_count": null,
   "id": "2813ba4d",
   "metadata": {},
   "outputs": [],
   "source": []
  }
 ],
 "metadata": {
  "kernelspec": {
   "display_name": "Python 3 (ipykernel)",
   "language": "python",
   "name": "python3"
  },
  "language_info": {
   "codemirror_mode": {
    "name": "ipython",
    "version": 3
   },
   "file_extension": ".py",
   "mimetype": "text/x-python",
   "name": "python",
   "nbconvert_exporter": "python",
   "pygments_lexer": "ipython3",
   "version": "3.9.7"
  }
 },
 "nbformat": 4,
 "nbformat_minor": 5
}
